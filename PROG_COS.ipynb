{
 "cells": [
  {
   "cell_type": "code",
   "execution_count": null,
   "metadata": {},
   "outputs": [],
   "source": [
    "!pip install excel\n",
    "!pip install pandas\n",
    "!pip install openpyxl\n",
    "\n",
    "import pandas as pd\n",
    "import re\n",
    "\n",
    "df1 = pd.read_excel('AVALIA_PRODUTO.xlsx', 'AVALIA')\n",
    "\n",
    "df2 = pd.read_excel('AVALIA_PRODUTO.xlsx', 'PM')\n",
    "df2 = df2[['PRODUTOS','RESULT']]\n",
    "\n",
    "for a in range(len(df1['REV_TEXTO'])):\n",
    "  text_COS = df1['REV_TEXTO'].loc[a]\n",
    "  for a in range(len(df2['PRODUTOS'])):\n",
    "    PM = df2['PRODUTOS'].loc[a]\n",
    "    if re.search(f\"\"\"\\\\b{PM}\\\\b\"\"\", text_COS, re.IGNORECASE):\n",
    "      df2['RESULT'].loc[a] = 'OK'\n",
    "\n",
    "for a in range(len(df2)):\n",
    "  result = df2['RESULT'].loc[a]\n",
    "  if result != 'OK':\n",
    "    df2['RESULT'].loc[a] = '-'\n",
    "\n",
    "df2.to_excel('NEW_TABLE.xlsx')\n",
    "\n",
    "df2"
   ]
  }
 ],
 "metadata": {
  "kernelspec": {
   "display_name": "Python 3",
   "language": "python",
   "name": "python3"
  },
  "language_info": {
   "codemirror_mode": {
    "name": "ipython",
    "version": 3
   },
   "file_extension": ".py",
   "mimetype": "text/x-python",
   "name": "python",
   "nbconvert_exporter": "python",
   "pygments_lexer": "ipython3",
   "version": "3.7.3"
  }
 },
 "nbformat": 4,
 "nbformat_minor": 4
}
