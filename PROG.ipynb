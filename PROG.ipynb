!pip install excel
!pip install pandas
!pip install openpyxl

import pandas as pd
import re

df1 = pd.read_excel('AVALIA_PRODUTO.xlsx', 'AVALIA')

df2 = pd.read_excel('AVALIA_PRODUTO.xlsx', 'PM')
df2 = df2[['PRODUTOS','RESULT']]

for a in range(len(df1['REV_TEXTO'])):
  text_COS = df1['REV_TEXTO'].loc[a]
  for a in range(len(df2['PRODUTOS'])):
    PM = df2['PRODUTOS'].loc[a]
    if re.search(f"""\\b{PM}\\b""", text_COS, re.IGNORECASE):
      df2['RESULT'].loc[a] = 'OK'

for a in range(len(df2)):
  result = df2['RESULT'].loc[a]
  if result != 'OK':
    df2['RESULT'].loc[a] = '-'

df2.to_excel('NEW_TABLE.xlsx')

df2
